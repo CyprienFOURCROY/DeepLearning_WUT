{
 "cells": [
  {
   "cell_type": "code",
   "execution_count": 1,
   "id": "9c14ac1a-e963-4163-8866-f490d55b255c",
   "metadata": {
    "tags": []
   },
   "outputs": [],
   "source": [
    "import torch\n",
    "import torch.nn as nn\n",
    "import torch.optim as optim\n",
    "import torchvision\n",
    "import torchvision.transforms as transforms\n",
    "\n",
    "import time"
   ]
  },
  {
   "cell_type": "code",
   "execution_count": 2,
   "id": "d39ca280-ac28-4405-bc54-7bf93833175c",
   "metadata": {
    "tags": []
   },
   "outputs": [
    {
     "name": "stdout",
     "output_type": "stream",
     "text": [
      "cuda:0\n"
     ]
    }
   ],
   "source": [
    "device = torch.device(\"cuda:0\" if torch.cuda.is_available() else \"cpu\")\n",
    "print(device)"
   ]
  },
  {
   "cell_type": "code",
   "execution_count": null,
   "id": "7b07f5ac-e531-40c4-a10f-3c5b7c1c9c99",
   "metadata": {},
   "outputs": [],
   "source": [
    "torch.relu()"
   ]
  },
  {
   "cell_type": "code",
   "execution_count": null,
   "id": "bc7cbc80-460d-44c4-8633-84940cdfda02",
   "metadata": {},
   "outputs": [],
   "source": [
    "nn.ReLU"
   ]
  },
  {
   "cell_type": "code",
   "execution_count": 163,
   "id": "405a6432-76a2-4b34-8bfa-4b5ed0e48714",
   "metadata": {
    "tags": []
   },
   "outputs": [],
   "source": [
    "# 1. Define a CNN architecture\n",
    "class BasicCNN(nn.Module):\n",
    "    def __init__(self):\n",
    "        super(BasicCNN, self).__init__()\n",
    "        # First convolutional layer\n",
    "        # Input: 3 channels (RGB), Output: 16 feature maps, 3x3 kernel\n",
    "        self.conv1 = nn.Conv2d(in_channels=3, out_channels=16, kernel_size=3, padding=1)\n",
    "        self.relu1 = nn.ReLU()\n",
    "        self.pool1 = nn.MaxPool2d(kernel_size=2)\n",
    "        \n",
    "        # Second convolutional layer\n",
    "        # Input: 16 feature maps, Output: 32 feature maps, 3x3 kernel\n",
    "        self.conv2 = nn.Conv2d(in_channels=16, out_channels=32, kernel_size=3, padding=1)\n",
    "        self.relu2 = nn.ReLU()\n",
    "        self.pool2 = nn.MaxPool2d(kernel_size=2)\n",
    "        \n",
    "        # Fully connected layers\n",
    "        # Assuming input images are 32x32, after two 2x2 pooling layers, we have 32/2/2 = 8\n",
    "        # So the feature maps are 8x8 with 32 channels: 32 * 8 * 8 = 2048\n",
    "        self.fc1 = nn.Linear(32 * 8 * 8, 128)\n",
    "        self.relu3 = nn.ReLU()\n",
    "        self.fc2 = nn.Linear(128, 10)  # 10 output classes (e.g., for CIFAR-10 dataset)\n",
    "    \n",
    "    def forward(self, x):\n",
    "        # Apply convolutional layers\n",
    "        x = self.pool1(self.relu1(self.conv1(x)))\n",
    "        x = self.pool2(self.relu2(self.conv2(x)))\n",
    "        \n",
    "        # Flatten the feature maps\n",
    "        x = x.view(-1, 32 * 8 * 8)\n",
    "        \n",
    "        # Apply fully connected layers\n",
    "        x = self.relu3(self.fc1(x))\n",
    "        x = self.fc2(x)\n",
    "        \n",
    "        return x\n",
    "\n",
    "# 2. Create an instance of the model\n",
    "model = BasicCNN()\n",
    "model = model.to(device)\n",
    "\n",
    "# 3. Define loss function and optimizer\n",
    "criterion = nn.CrossEntropyLoss()\n",
    "optimizer = optim.SGD(model.parameters(), lr=0.003, momentum=0.8)\n",
    "\n",
    "# 4. Load and preprocess data (example with CIFAR-10)\n",
    "transform = transforms.Compose([\n",
    "    transforms.ToTensor(),\n",
    "    transforms.Normalize((0.5, 0.5, 0.5), (0.5, 0.5, 0.5))\n",
    "])\n",
    "\n",
    "trainset = torchvision.datasets.ImageFolder('../../data/raw/train/', transform=transform)\n",
    "valset = torchvision.datasets.ImageFolder('../../data/raw/valid/', transform=transform)\n",
    "\n",
    "trainloader = torch.utils.data.DataLoader(trainset, batch_size=32,\n",
    "                                          shuffle=True, num_workers=2)\n",
    "valloader = torch.utils.data.DataLoader(valset, batch_size=128, shuffle=False, num_workers=2)"
   ]
  },
  {
   "cell_type": "code",
   "execution_count": 164,
   "id": "09b77856-5eca-483a-963d-4b319b11317a",
   "metadata": {
    "tags": []
   },
   "outputs": [],
   "source": [
    "class EarlyStopper:\n",
    "    def __init__(self, max_iter : int = 10, patience : str = 2, min_delta : float = 0):\n",
    "        self.max_iter = max_iter\n",
    "        self.min_error = float('Inf')\n",
    "        self.patience = patience\n",
    "        self.counter = 0\n",
    "    \n",
    "    def check(self, val_error : float, model):\n",
    "        \n",
    "        if self.counter >= self.max_iter:\n",
    "            return True\n",
    "        \n",
    "        if val_error < self.min_error:\n",
    "            self.min_error = val_error\n",
    "            torch.save(model.state_dict(), 'best_model.pth')\n",
    "            self.counter = 0\n",
    "        else:\n",
    "            if self.counter >= self.patience:\n",
    "                return True\n",
    "            self.counter = self.counter + 1\n",
    "        return False"
   ]
  },
  {
   "cell_type": "code",
   "execution_count": 165,
   "id": "6b4eb1d8-97b1-47d9-b4db-29496753adee",
   "metadata": {
    "tags": []
   },
   "outputs": [],
   "source": [
    "ES = EarlyStopper(max_iter=10, patience=2, min_delta=0)\n",
    "\n",
    "def train(epochs=5):\n",
    "    \n",
    "    time_started = time.time()\n",
    "    train_errors = []\n",
    "    val_errors = []\n",
    "    for epoch in range(epochs):\n",
    "        running_loss = 0.0\n",
    "        for i, data in enumerate(trainloader, 0):\n",
    "            inputs, labels = data\n",
    "            inputs, labels = inputs.to(device), labels.to(device)\n",
    "            \n",
    "            # Zero the parameter gradients\n",
    "            optimizer.zero_grad()\n",
    "            \n",
    "            # Forward + backward + optimize\n",
    "            outputs = model(inputs)\n",
    "            loss = criterion(outputs, labels)\n",
    "            loss.backward()\n",
    "            optimizer.step()\n",
    "            \n",
    "            # Print statistics\n",
    "            running_loss += loss.item()\n",
    "            if i % 200 == 199:    # Print every 200 mini-batches\n",
    "                print(f'[{epoch + 1}, {i + 1}], time {time.time() - time_started} loss: {running_loss / 200:.3f}')\n",
    "                running_loss = 0.0\n",
    "            \n",
    "        val_error = 0\n",
    "        with torch.no_grad():\n",
    "            for images, labels in valloader:\n",
    "                images, labels = images.to(device), labels.to(device)\n",
    "                outputs = model(images)\n",
    "                val_error = val_error + criterion(outputs, labels) * images.size(0)\n",
    "            val_error = val_error / len(valloader.dataset)\n",
    "            print(f'epoch {epoch} val error: {val_error}')\n",
    "\n",
    "    if ES.check(val_error, model):\n",
    "        print('Finished Training')\n",
    "        return\n",
    "    \n",
    "\n",
    "# 6. Run training\n",
    "# train()  # Uncomment to run training"
   ]
  },
  {
   "cell_type": "code",
   "execution_count": 166,
   "id": "9b01fad4-efcd-43c6-bd23-21621008de27",
   "metadata": {
    "tags": []
   },
   "outputs": [
    {
     "name": "stdout",
     "output_type": "stream",
     "text": [
      "[1, 200], time 4.659148216247559 loss: 2.297\n",
      "[1, 400], time 5.515721797943115 loss: 2.275\n",
      "[1, 600], time 6.363280534744263 loss: 2.198\n",
      "[1, 800], time 7.211347579956055 loss: 2.070\n",
      "[1, 1000], time 8.108929634094238 loss: 1.968\n",
      "[1, 1200], time 9.664617776870728 loss: 1.886\n",
      "[1, 1400], time 11.156718254089355 loss: 1.832\n",
      "[1, 1600], time 12.66681694984436 loss: 1.777\n",
      "[1, 1800], time 14.154914617538452 loss: 1.766\n",
      "[1, 2000], time 15.678635358810425 loss: 1.734\n",
      "[1, 2200], time 17.189730644226074 loss: 1.718\n",
      "[1, 2400], time 18.72883176803589 loss: 1.690\n",
      "[1, 2600], time 20.246371746063232 loss: 1.677\n",
      "[1, 2800], time 21.75247097015381 loss: 1.644\n",
      "epoch 0 val error: 1.6527642011642456\n",
      "[2, 200], time 47.953481912612915 loss: 1.644\n",
      "[2, 400], time 48.79355239868164 loss: 1.629\n",
      "[2, 600], time 49.646628856658936 loss: 1.604\n",
      "[2, 800], time 50.49319815635681 loss: 1.610\n",
      "[2, 1000], time 51.375776290893555 loss: 1.594\n",
      "[2, 1200], time 52.867732524871826 loss: 1.588\n",
      "[2, 1400], time 54.378807067871094 loss: 1.596\n",
      "[2, 1600], time 55.8849036693573 loss: 1.548\n",
      "[2, 1800], time 57.38450622558594 loss: 1.570\n",
      "[2, 2000], time 58.889617681503296 loss: 1.543\n",
      "[2, 2200], time 60.39472460746765 loss: 1.545\n",
      "[2, 2400], time 61.90842580795288 loss: 1.519\n",
      "[2, 2600], time 63.42202091217041 loss: 1.522\n",
      "[2, 2800], time 64.9341173171997 loss: 1.516\n",
      "epoch 1 val error: 1.5028220415115356\n",
      "[3, 200], time 91.16366815567017 loss: 1.493\n",
      "[3, 400], time 92.03624629974365 loss: 1.508\n",
      "[3, 600], time 92.92782354354858 loss: 1.486\n",
      "[3, 800], time 93.8044068813324 loss: 1.475\n",
      "[3, 1000], time 94.75199317932129 loss: 1.474\n",
      "[3, 1200], time 96.35677742958069 loss: 1.484\n",
      "[3, 1400], time 97.85538148880005 loss: 1.463\n",
      "[3, 1600], time 99.38007593154907 loss: 1.434\n",
      "[3, 1800], time 100.8726761341095 loss: 1.432\n",
      "[3, 2000], time 102.39377355575562 loss: 1.449\n",
      "[3, 2200], time 103.92687487602234 loss: 1.431\n",
      "[3, 2400], time 105.46102046966553 loss: 1.422\n",
      "[3, 2600], time 106.99662113189697 loss: 1.436\n",
      "[3, 2800], time 108.52472448348999 loss: 1.425\n",
      "epoch 2 val error: 1.456787347793579\n",
      "[4, 200], time 134.66279196739197 loss: 1.419\n",
      "[4, 400], time 135.54587960243225 loss: 1.418\n",
      "[4, 600], time 136.42696166038513 loss: 1.412\n",
      "[4, 800], time 137.30754375457764 loss: 1.387\n",
      "[4, 1000], time 138.2881224155426 loss: 1.403\n",
      "[4, 1200], time 139.80919981002808 loss: 1.396\n",
      "[4, 1400], time 141.3198013305664 loss: 1.372\n",
      "[4, 1600], time 142.85989928245544 loss: 1.345\n",
      "[4, 1800], time 144.37699699401855 loss: 1.376\n",
      "[4, 2000], time 145.89097213745117 loss: 1.363\n",
      "[4, 2200], time 147.43107843399048 loss: 1.369\n",
      "[4, 2400], time 148.95895314216614 loss: 1.342\n",
      "[4, 2600], time 150.46655106544495 loss: 1.344\n",
      "[4, 2800], time 151.99951171875 loss: 1.361\n",
      "epoch 3 val error: 1.3671962022781372\n",
      "[5, 200], time 178.70652222633362 loss: 1.323\n",
      "[5, 400], time 179.613116979599 loss: 1.306\n",
      "[5, 600], time 180.52719593048096 loss: 1.328\n",
      "[5, 800], time 181.45178055763245 loss: 1.310\n",
      "[5, 1000], time 182.5757863521576 loss: 1.325\n",
      "[5, 1200], time 184.11180543899536 loss: 1.329\n",
      "[5, 1400], time 185.62941145896912 loss: 1.338\n",
      "[5, 1600], time 187.16700983047485 loss: 1.300\n",
      "[5, 1800], time 188.70360732078552 loss: 1.303\n",
      "[5, 2000], time 190.2286627292633 loss: 1.292\n",
      "[5, 2200], time 191.7687587738037 loss: 1.310\n",
      "[5, 2400], time 193.28285884857178 loss: 1.288\n",
      "[5, 2600], time 194.81542372703552 loss: 1.300\n",
      "[5, 2800], time 196.35402655601501 loss: 1.275\n",
      "epoch 4 val error: 1.3183976411819458\n",
      "[6, 200], time 222.83217597007751 loss: 1.269\n",
      "[6, 400], time 223.71127152442932 loss: 1.274\n",
      "[6, 600], time 224.57437300682068 loss: 1.281\n",
      "[6, 800], time 225.44296288490295 loss: 1.267\n",
      "[6, 1000], time 226.37854480743408 loss: 1.267\n",
      "[6, 1200], time 227.86584210395813 loss: 1.241\n",
      "[6, 1400], time 229.40244793891907 loss: 1.250\n",
      "[6, 1600], time 230.9405550956726 loss: 1.252\n",
      "[6, 1800], time 232.48809027671814 loss: 1.250\n",
      "[6, 2000], time 234.02718925476074 loss: 1.245\n",
      "[6, 2200], time 235.56129360198975 loss: 1.236\n",
      "[6, 2400], time 237.05748510360718 loss: 1.236\n",
      "[6, 2600], time 238.56176495552063 loss: 1.225\n",
      "[6, 2800], time 240.0757758617401 loss: 1.234\n",
      "epoch 5 val error: 1.2799932956695557\n",
      "[7, 200], time 266.4507029056549 loss: 1.223\n",
      "[7, 400], time 267.3383114337921 loss: 1.204\n",
      "[7, 600], time 268.2063944339752 loss: 1.208\n",
      "[7, 800], time 269.11449241638184 loss: 1.228\n",
      "[7, 1000], time 270.1271653175354 loss: 1.211\n",
      "[7, 1200], time 271.6581554412842 loss: 1.224\n",
      "[7, 1400], time 273.1353576183319 loss: 1.197\n",
      "[7, 1600], time 274.6569631099701 loss: 1.166\n",
      "[7, 1800], time 276.17006754875183 loss: 1.199\n",
      "[7, 2000], time 277.6791687011719 loss: 1.197\n",
      "[7, 2200], time 279.1852653026581 loss: 1.199\n",
      "[7, 2400], time 280.71236395835876 loss: 1.209\n",
      "[7, 2600], time 282.23846983909607 loss: 1.186\n",
      "[7, 2800], time 283.7350618839264 loss: 1.210\n",
      "epoch 6 val error: 1.2591769695281982\n",
      "[8, 200], time 310.1222324371338 loss: 1.189\n",
      "[8, 400], time 311.0093412399292 loss: 1.150\n",
      "[8, 600], time 311.8899383544922 loss: 1.176\n",
      "[8, 800], time 312.77352952957153 loss: 1.155\n",
      "[8, 1000], time 313.83609223365784 loss: 1.166\n",
      "[8, 1200], time 315.38708567619324 loss: 1.181\n",
      "[8, 1400], time 316.88590693473816 loss: 1.150\n",
      "[8, 1600], time 318.41400170326233 loss: 1.174\n",
      "[8, 1800], time 319.8921012878418 loss: 1.162\n",
      "[8, 2000], time 321.40719985961914 loss: 1.158\n",
      "[8, 2200], time 322.9124233722687 loss: 1.172\n",
      "[8, 2400], time 324.43352794647217 loss: 1.141\n",
      "[8, 2600], time 325.9626371860504 loss: 1.120\n",
      "[8, 2800], time 327.48622584342957 loss: 1.137\n",
      "epoch 7 val error: 1.2358946800231934\n",
      "[9, 200], time 354.1076810359955 loss: 1.106\n",
      "[9, 400], time 354.98875880241394 loss: 1.110\n",
      "[9, 600], time 355.875342130661 loss: 1.118\n",
      "[9, 800], time 356.7534809112549 loss: 1.111\n",
      "[9, 1000], time 357.88913106918335 loss: 1.110\n",
      "[9, 1200], time 359.4626467227936 loss: 1.110\n",
      "[9, 1400], time 360.9702479839325 loss: 1.124\n",
      "[9, 1600], time 362.47985005378723 loss: 1.109\n",
      "[9, 1800], time 363.9629502296448 loss: 1.161\n",
      "[9, 2000], time 365.49204897880554 loss: 1.134\n",
      "[9, 2200], time 366.9526479244232 loss: 1.106\n",
      "[9, 2400], time 368.48475074768066 loss: 1.107\n",
      "[9, 2600], time 369.9995470046997 loss: 1.110\n",
      "[9, 2800], time 371.5261459350586 loss: 1.132\n",
      "epoch 8 val error: 1.1954514980316162\n",
      "[10, 200], time 398.4928967952728 loss: 1.086\n",
      "[10, 400], time 399.30345034599304 loss: 1.060\n",
      "[10, 600], time 400.1285135746002 loss: 1.078\n",
      "[10, 800], time 400.9390707015991 loss: 1.068\n",
      "[10, 1000], time 401.80466651916504 loss: 1.080\n",
      "[10, 1200], time 403.14851570129395 loss: 1.070\n",
      "[10, 1400], time 404.59278750419617 loss: 1.091\n",
      "[10, 1600], time 406.0323781967163 loss: 1.086\n",
      "[10, 1800], time 407.49748373031616 loss: 1.080\n",
      "[10, 2000], time 408.98308515548706 loss: 1.082\n",
      "[10, 2200], time 410.4671859741211 loss: 1.088\n",
      "[10, 2400], time 411.9637928009033 loss: 1.078\n",
      "[10, 2600], time 413.4483904838562 loss: 1.076\n",
      "[10, 2800], time 414.9044885635376 loss: 1.091\n",
      "epoch 9 val error: 1.199147343635559\n",
      "[11, 200], time 440.0457203388214 loss: 1.044\n",
      "[11, 400], time 440.8787817955017 loss: 1.032\n",
      "[11, 600], time 441.7128481864929 loss: 1.027\n",
      "[11, 800], time 442.55991792678833 loss: 1.041\n",
      "[11, 1000], time 443.39501214027405 loss: 1.034\n",
      "[11, 1200], time 444.7631239891052 loss: 1.044\n",
      "[11, 1400], time 446.20375514030457 loss: 1.047\n",
      "[11, 1600], time 447.65885639190674 loss: 1.027\n",
      "[11, 1800], time 449.1129639148712 loss: 1.050\n",
      "[11, 2000], time 450.5570614337921 loss: 1.043\n",
      "[11, 2200], time 452.00117015838623 loss: 1.045\n",
      "[11, 2400], time 453.454270362854 loss: 1.046\n",
      "[11, 2600], time 454.9084346294403 loss: 1.070\n",
      "[11, 2800], time 456.36653780937195 loss: 1.049\n",
      "epoch 10 val error: 1.182356357574463\n",
      "[12, 200], time 481.9078149795532 loss: 0.999\n",
      "[12, 400], time 482.77689504623413 loss: 1.002\n",
      "[12, 600], time 483.6249611377716 loss: 1.013\n",
      "[12, 800], time 484.49302530288696 loss: 0.998\n",
      "[12, 1000], time 485.4625918865204 loss: 0.989\n",
      "[12, 1200], time 486.93019700050354 loss: 1.000\n",
      "[12, 1400], time 488.4162976741791 loss: 1.030\n",
      "[12, 1600], time 489.9048948287964 loss: 0.999\n",
      "[12, 1800], time 491.3794975280762 loss: 1.028\n",
      "[12, 2000], time 492.86558985710144 loss: 0.999\n",
      "[12, 2200], time 494.341183423996 loss: 0.989\n",
      "[12, 2400], time 495.8152811527252 loss: 1.026\n",
      "[12, 2600], time 497.28537774086 loss: 1.012\n",
      "[12, 2800], time 498.7584717273712 loss: 1.000\n",
      "epoch 11 val error: 1.180467128753662\n",
      "[13, 200], time 524.8440847396851 loss: 0.948\n",
      "[13, 400], time 525.7311682701111 loss: 0.980\n",
      "[13, 600], time 526.6107478141785 loss: 0.958\n",
      "[13, 800], time 527.4698169231415 loss: 0.947\n",
      "[13, 1000], time 528.5048787593842 loss: 0.955\n",
      "[13, 1200], time 530.0853688716888 loss: 0.983\n",
      "[13, 1400], time 531.5959689617157 loss: 0.975\n",
      "[13, 1600], time 533.1085691452026 loss: 0.969\n",
      "[13, 1800], time 534.6459786891937 loss: 0.967\n",
      "[13, 2000], time 536.1620607376099 loss: 0.985\n",
      "[13, 2200], time 537.7086617946625 loss: 0.958\n",
      "[13, 2400], time 539.2485013008118 loss: 0.986\n",
      "[13, 2600], time 540.7791066169739 loss: 0.991\n",
      "[13, 2800], time 542.2937045097351 loss: 0.970\n",
      "epoch 12 val error: 1.1838432550430298\n",
      "[14, 200], time 568.8545227050781 loss: 0.933\n",
      "[14, 400], time 569.7361290454865 loss: 0.914\n",
      "[14, 600], time 570.606240272522 loss: 0.934\n",
      "[14, 800], time 571.4918348789215 loss: 0.927\n",
      "[14, 1000], time 572.4884300231934 loss: 0.957\n",
      "[14, 1200], time 574.0640599727631 loss: 0.950\n",
      "[14, 1400], time 575.6102867126465 loss: 0.906\n",
      "[14, 1600], time 577.1288869380951 loss: 0.920\n",
      "[14, 1800], time 578.6694891452789 loss: 0.938\n",
      "[14, 2000], time 580.2110908031464 loss: 0.942\n",
      "[14, 2200], time 581.7456893920898 loss: 0.934\n",
      "[14, 2400], time 583.3037955760956 loss: 0.953\n",
      "[14, 2600], time 584.8233940601349 loss: 0.933\n",
      "[14, 2800], time 586.3454928398132 loss: 0.958\n",
      "epoch 13 val error: 1.1778180599212646\n",
      "[15, 200], time 612.5024528503418 loss: 0.877\n",
      "[15, 400], time 613.3750512599945 loss: 0.855\n",
      "[15, 600], time 614.2541432380676 loss: 0.891\n",
      "[15, 800], time 615.1417419910431 loss: 0.906\n",
      "[15, 1000], time 616.229519367218 loss: 0.899\n",
      "[15, 1200], time 617.7738609313965 loss: 0.894\n",
      "[15, 1400], time 619.3014640808105 loss: 0.891\n",
      "[15, 1600], time 620.8365314006805 loss: 0.890\n",
      "[15, 1800], time 622.3909075260162 loss: 0.890\n",
      "[15, 2000], time 623.8950095176697 loss: 0.913\n",
      "[15, 2200], time 625.4191081523895 loss: 0.921\n",
      "[15, 2400], time 626.940705537796 loss: 0.928\n",
      "[15, 2600], time 628.4502880573273 loss: 0.926\n",
      "[15, 2800], time 629.9718825817108 loss: 0.926\n",
      "epoch 14 val error: 1.168297290802002\n"
     ]
    }
   ],
   "source": [
    "train(15)"
   ]
  },
  {
   "cell_type": "code",
   "execution_count": 101,
   "id": "bf99e9d8-ab48-4c28-a916-65aebb449c04",
   "metadata": {
    "tags": []
   },
   "outputs": [
    {
     "name": "stderr",
     "output_type": "stream",
     "text": [
      "C:\\Users\\micha\\AppData\\Local\\Temp\\ipykernel_7256\\1559688700.py:1: FutureWarning: You are using `torch.load` with `weights_only=False` (the current default value), which uses the default pickle module implicitly. It is possible to construct malicious pickle data which will execute arbitrary code during unpickling (See https://github.com/pytorch/pytorch/blob/main/SECURITY.md#untrusted-models for more details). In a future release, the default value for `weights_only` will be flipped to `True`. This limits the functions that could be executed during unpickling. Arbitrary objects will no longer be allowed to be loaded via this mode unless they are explicitly allowlisted by the user via `torch.serialization.add_safe_globals`. We recommend you start setting `weights_only=True` for any use case where you don't have full control of the loaded file. Please open an issue on GitHub for any issues related to this experimental feature.\n",
      "  model.load_state_dict(torch.load('best_model.pth'))\n"
     ]
    },
    {
     "data": {
      "text/plain": [
       "<All keys matched successfully>"
      ]
     },
     "execution_count": 101,
     "metadata": {},
     "output_type": "execute_result"
    }
   ],
   "source": [
    "model.load_state_dict(torch.load('best_model.pth'))"
   ]
  },
  {
   "cell_type": "code",
   "execution_count": 102,
   "id": "d6790635-d811-4f45-a058-bb64096ec78b",
   "metadata": {
    "tags": []
   },
   "outputs": [
    {
     "name": "stdout",
     "output_type": "stream",
     "text": [
      "epoch NONE val error: 1.1674308776855469\n"
     ]
    }
   ],
   "source": [
    "val_error = 0\n",
    "with torch.no_grad():\n",
    "    for images, labels in valloader:\n",
    "        images, labels = images.to(device), labels.to(device)\n",
    "        outputs = model(images)\n",
    "        val_error = val_error + criterion(outputs, labels) * images.size(0)\n",
    "    val_error = val_error / len(valloader.dataset)\n",
    "    print(f'epoch NONE val error: {val_error}')"
   ]
  },
  {
   "cell_type": "markdown",
   "id": "c4dee69b-3f4e-4db0-8181-673332054000",
   "metadata": {},
   "source": [
    "---\n",
    "# Checking"
   ]
  },
  {
   "cell_type": "code",
   "execution_count": 132,
   "id": "9d938757-7f39-4a9d-a5cb-8cd3e6bbb734",
   "metadata": {
    "tags": []
   },
   "outputs": [],
   "source": [
    "from matplotlib import pyplot as plt\n",
    "import numpy as np\n",
    "import seaborn as sns\n",
    "from PIL import Image"
   ]
  },
  {
   "cell_type": "code",
   "execution_count": 128,
   "id": "d34befa3-36e7-441c-b34c-21c30527918e",
   "metadata": {
    "tags": []
   },
   "outputs": [],
   "source": [
    "def predict(img):\n",
    "    #tensor_image = transform(Image.fromarray(img)).unsqueeze(0)\n",
    "    tensor_image = img_tensor.unsqueeze(0).to(device)\n",
    "    model.eval()\n",
    "    with torch.no_grad():\n",
    "        output = model(tensor_image)\n",
    "\n",
    "    img_np = img_tensor.permute(1, 2, 0).cpu().numpy()\n",
    "    \n",
    "    # Denormalize if your transform normalized the images\n",
    "    img_np = img_np * 0.5 + 0.5  # Adjust based on your normalization values\n",
    "    img_np = np.clip(img_np, 0, 1)    \n",
    "    \n",
    "    fig, (ax1, ax2) = plt.subplots(2, 1)\n",
    "    \n",
    "    ax1.imshow(img_np)\n",
    "    proba = torch.nn.functional.softmax(output, dim=1)[0].tolist()\n",
    "    sns.barplot(x=trainset.classes, y=proba, ax = ax2)\n",
    "    ax2.set_xticks(ax2.get_xticks(), ax2.get_xticklabels(), rotation=45)\n",
    "    plt.show()\n",
    "    print(proba)"
   ]
  },
  {
   "cell_type": "code",
   "execution_count": 157,
   "id": "c352ef70-f811-46aa-84ce-f3e2e64a0216",
   "metadata": {
    "tags": []
   },
   "outputs": [
    {
     "data": {
      "image/png": "[encoded data removed]",
      "text/plain": [
       "<Figure size 640x480 with 2 Axes>"
      ]
     },
     "metadata": {},
     "output_type": "display_data"
    },
    {
     "name": "stdout",
     "output_type": "stream",
     "text": [
      "[0.09197390079498291, 0.13637155294418335, 0.1987992525100708, 0.12512052059173584, 0.14453724026679993, 0.05299113318324089, 0.06924711912870407, 0.007855124771595001, 0.14874224364757538, 0.024361854419112206]\n"
     ]
    }
   ],
   "source": [
    "img_tensor, label = valloader.dataset[29000]\n",
    "predict(img_tensor)"
   ]
  }
 ],
 "metadata": {
  "kernelspec": {
   "display_name": "Python (intotoml)",
   "language": "python",
   "name": "introtoml2"
  },
  "language_info": {
   "codemirror_mode": {
    "name": "ipython",
    "version": 3
   },
   "file_extension": ".py",
   "mimetype": "text/x-python",
   "name": "python",
   "nbconvert_exporter": "python",
   "pygments_lexer": "ipython3",
   "version": "3.11.3"
  }
 },
 "nbformat": 4,
 "nbformat_minor": 5
}
